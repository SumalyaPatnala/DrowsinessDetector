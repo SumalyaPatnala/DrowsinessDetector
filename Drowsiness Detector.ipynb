{
 "cells": [
  {
   "cell_type": "code",
   "execution_count": null,
   "id": "bd0797d3",
   "metadata": {},
   "outputs": [],
   "source": [
    "!pip3 install torch torchvision torchaudio"
   ]
  },
  {
   "cell_type": "code",
   "execution_count": null,
   "id": "8d6feb0a",
   "metadata": {},
   "outputs": [],
   "source": [
    "!git clone https://github.com/ultralytics/yolov5"
   ]
  },
  {
   "cell_type": "code",
   "execution_count": null,
   "id": "51528d24",
   "metadata": {},
   "outputs": [],
   "source": [
    "pip install -r requirements.txt"
   ]
  },
  {
   "cell_type": "code",
   "execution_count": null,
   "id": "8547b1a2",
   "metadata": {},
   "outputs": [],
   "source": [
    "import torch\n",
    "from matplotlib import pyplot as plt\n",
    "import numpy as np\n",
    "import cv2"
   ]
  },
  {
   "cell_type": "code",
   "execution_count": null,
   "id": "25bc5e4d",
   "metadata": {},
   "outputs": [],
   "source": [
    "model = torch.hub.load(\"ultralytics/yolov5\",'yolov5s')"
   ]
  },
  {
   "cell_type": "code",
   "execution_count": null,
   "id": "af81bb00",
   "metadata": {},
   "outputs": [],
   "source": [
    "model"
   ]
  },
  {
   "cell_type": "code",
   "execution_count": null,
   "id": "009635c8",
   "metadata": {},
   "outputs": [],
   "source": [
    "img = 'IMG_7262.JPG'"
   ]
  },
  {
   "cell_type": "markdown",
   "id": "46a86e65",
   "metadata": {},
   "source": [
    "### This is an image I clicked during my spring break in San Francisco\n",
    "<img src='IMG_7262.JPG' style = 'width:280px,height=220px' >"
   ]
  },
  {
   "cell_type": "code",
   "execution_count": null,
   "id": "e5cc2f9f",
   "metadata": {},
   "outputs": [],
   "source": [
    "results = model(img)\n",
    "results.print()"
   ]
  },
  {
   "cell_type": "code",
   "execution_count": null,
   "id": "ed71a9e9",
   "metadata": {},
   "outputs": [],
   "source": [
    "%matplotlib inline\n",
    "plt.imshow(np.squeeze(results.render()))\n",
    "plt.show()"
   ]
  },
  {
   "cell_type": "markdown",
   "id": "573b0314",
   "metadata": {},
   "source": [
    "### This is the view from my apartment window\n",
    "<img src='IMG_5800.JPG' style = 'width:280px,height=220px' >"
   ]
  },
  {
   "cell_type": "code",
   "execution_count": null,
   "id": "1d31f330",
   "metadata": {},
   "outputs": [],
   "source": [
    "results = model(img)\n",
    "results.print()"
   ]
  },
  {
   "cell_type": "code",
   "execution_count": null,
   "id": "a3688efd",
   "metadata": {},
   "outputs": [],
   "source": [
    "%matplotlib inline\n",
    "plt.imshow(np.squeeze(results.render()))\n",
    "plt.show()"
   ]
  },
  {
   "cell_type": "code",
   "execution_count": null,
   "id": "083757ea",
   "metadata": {},
   "outputs": [],
   "source": [
    "results.render()"
   ]
  },
  {
   "cell_type": "markdown",
   "id": "32516c6e",
   "metadata": {},
   "source": [
    "### Running the model to observe through webcam"
   ]
  },
  {
   "cell_type": "code",
   "execution_count": null,
   "id": "5cf49b6b",
   "metadata": {},
   "outputs": [],
   "source": [
    "cap = cv2.VideoCapture(0)\n",
    "while cap.isOpened():\n",
    "    ret, frame = cap.read()\n",
    "    \n",
    "    results = model(frame)\n",
    "    \n",
    "    cv2.imshow('YOLO', np.squeeze(results.render()))\n",
    "    \n",
    "    if cv2.waitKey(10) & 0xFF == ord('q'):\n",
    "        break\n",
    "\n",
    "cap.release()\n",
    "cv2.destroyAllWindows()"
   ]
  },
  {
   "cell_type": "markdown",
   "id": "bcdab323",
   "metadata": {},
   "source": [
    "#### Observing through video that I once captured near the famous SalesForce Tower, Embarcadero, San Francisco"
   ]
  },
  {
   "cell_type": "code",
   "execution_count": null,
   "id": "7b2e75fc",
   "metadata": {},
   "outputs": [],
   "source": [
    "cap = cv2.VideoCapture('IMG_7056.mov')\n",
    "while cap.isOpened():\n",
    "    ret, frame = cap.read()\n",
    "    \n",
    "    results = model(frame)\n",
    "    \n",
    "    cv2.imshow('YOLO', np.squeeze(results.render()))\n",
    "    \n",
    "    if cv2.waitKey(10) & 0xFF == ord('q'):\n",
    "        break\n",
    "\n",
    "cap.release()\n",
    "cv2.destroyAllWindows()"
   ]
  },
  {
   "cell_type": "markdown",
   "id": "edad18ce",
   "metadata": {},
   "source": [
    "#### Training for drowsiness "
   ]
  },
  {
   "cell_type": "code",
   "execution_count": null,
   "id": "12c8e8b4",
   "metadata": {},
   "outputs": [],
   "source": [
    "import uuid\n",
    "import os\n",
    "import time"
   ]
  },
  {
   "cell_type": "code",
   "execution_count": null,
   "id": "cf557d72",
   "metadata": {},
   "outputs": [],
   "source": [
    "IMAGES_PATH = os.path.join('data', 'images')\n",
    "labels = ['awake','drowsy']\n",
    "number_imgs = 20"
   ]
  },
  {
   "cell_type": "code",
   "execution_count": null,
   "id": "7668696d",
   "metadata": {},
   "outputs": [],
   "source": [
    "cap = cv2.VideoCapture(0)\n",
    "\n",
    "for label in labels:\n",
    "    print('Collecting images for {}'.format(labels))\n",
    "    time.sleep(5)\n",
    "    \n",
    "    for img_num in range(number_imgs):\n",
    "        print('Collecting images for {}, image number{}'.format(label, img_num))\n",
    "        \n",
    "        #collecting images using webcam\n",
    "        ret, frame = cap.read()\n",
    "        \n",
    "        \n",
    "        #naming out image path\n",
    "        imgname = os.path.join(IMAGES_PATH, label+str(uuid.uuid1())+'.jpg')\n",
    "        print(imgname)\n",
    "        \n",
    "        #to write image path\n",
    "        cv2.imwrite(imgname, frame)\n",
    "        \n",
    "        \n",
    "        #to display on the screen\n",
    "        cv2.imshow('Image collection', frame)\n",
    "        \n",
    "        \n",
    "        #2 second delay between captures\n",
    "        time.sleep(2)\n",
    "        \n",
    "        if cv2.waitKey(10) & 0xFF == ord('q'):\n",
    "            break\n",
    "cap.release()\n",
    "cv2.destroyAllWindows()"
   ]
  },
  {
   "cell_type": "code",
   "execution_count": null,
   "id": "16e145e3",
   "metadata": {},
   "outputs": [],
   "source": [
    "!git clone https://github.com/tzutalin/labelImg"
   ]
  },
  {
   "cell_type": "code",
   "execution_count": null,
   "id": "c23e8069",
   "metadata": {},
   "outputs": [],
   "source": [
    "!pip install pyqt5 lxml --upgrade\n",
    "!cd labelImg && pyrcc5 -o libs/resources.py resources.qrc"
   ]
  },
  {
   "cell_type": "code",
   "execution_count": null,
   "id": "1a003cb7",
   "metadata": {},
   "outputs": [],
   "source": [
    "!cd yolov5 && python train.py --img 320 --batch 16 --epochs 500 --data dataset.yml --weights yolov5s.pt --workers 2\n"
   ]
  },
  {
   "cell_type": "code",
   "execution_count": null,
   "id": "274c4c4b",
   "metadata": {},
   "outputs": [],
   "source": [
    "model = torch.hub.load('ultralytics/yolov5', 'custom', path='yolov5/runs/train/exp15/weights/last.pt', force_reload=True)"
   ]
  },
  {
   "cell_type": "code",
   "execution_count": null,
   "id": "5ea13084",
   "metadata": {},
   "outputs": [],
   "source": [
    "img = os.path.join('data', 'images', 'awake.c9a24d48-e1f6-11eb-bbef-5cf3709bbcc6.jpg')"
   ]
  },
  {
   "cell_type": "code",
   "execution_count": null,
   "id": "949e8266",
   "metadata": {},
   "outputs": [],
   "source": [
    "results = model(img)"
   ]
  },
  {
   "cell_type": "code",
   "execution_count": null,
   "id": "85cc184b",
   "metadata": {},
   "outputs": [],
   "source": [
    "results.print()"
   ]
  },
  {
   "cell_type": "code",
   "execution_count": null,
   "id": "fc3fda6e",
   "metadata": {},
   "outputs": [],
   "source": [
    "%matplotlib inline \n",
    "plt.imshow(np.squeeze(results.render()))\n",
    "plt.show()"
   ]
  },
  {
   "cell_type": "code",
   "execution_count": null,
   "id": "0a2236be",
   "metadata": {},
   "outputs": [],
   "source": [
    "cap = cv2.VideoCapture(0)\n",
    "while cap.isOpened():\n",
    "    ret, frame = cap.read()\n",
    "    \n",
    "    # Make detections \n",
    "    results = model(frame)\n",
    "    \n",
    "    cv2.imshow('YOLO', np.squeeze(results.render()))\n",
    "    \n",
    "    if cv2.waitKey(10) & 0xFF == ord('q'):\n",
    "        break\n",
    "cap.release()\n",
    "cv2.destroyAllWindows()"
   ]
  }
 ],
 "metadata": {
  "kernelspec": {
   "display_name": "Python 3 (ipykernel)",
   "language": "python",
   "name": "python3"
  },
  "language_info": {
   "codemirror_mode": {
    "name": "ipython",
    "version": 3
   },
   "file_extension": ".py",
   "mimetype": "text/x-python",
   "name": "python",
   "nbconvert_exporter": "python",
   "pygments_lexer": "ipython3",
   "version": "3.10.9"
  }
 },
 "nbformat": 4,
 "nbformat_minor": 5
}
